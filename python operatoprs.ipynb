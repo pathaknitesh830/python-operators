{
 "cells": [
  {
   "cell_type": "code",
   "execution_count": 2,
   "id": "3a2fc113-4023-4baf-b107-1e1f351be352",
   "metadata": {},
   "outputs": [
    {
     "name": "stdin",
     "output_type": "stream",
     "text": [
      "Enter the first number:  34\n",
      "Enter the second number:  20\n"
     ]
    },
    {
     "name": "stdout",
     "output_type": "stream",
     "text": [
      "Sum: 54\n",
      "Difference: 14\n",
      "Product: 680\n",
      "Quotient: 1.7\n"
     ]
    }
   ],
   "source": [
    "#qustions no -1 //Calculate the sum, difference, product, and quotient of two numbers.\n",
    "\n",
    "\n",
    "# Input\n",
    "num1 = int(input(\"Enter the first number: \"))\n",
    "num2 = int(input(\"Enter the second number: \"))\n",
    "\n",
    "# Calculate and display the results\n",
    "sum_result = num1 + num2\n",
    "difference_result = num1 - num2\n",
    "product_result = num1 * num2\n",
    "\n",
    "# Check if the denominator is not zero before division\n",
    "quotient_result = num1 / num2 if num2 != 0 else \"Cannot divide by zero\"\n",
    "\n",
    "# Display the results\n",
    "print(f\"Sum: {sum_result}\")\n",
    "print(f\"Difference: {difference_result}\")\n",
    "print(f\"Product: {product_result}\")\n",
    "print(f\"Quotient: {quotient_result}\")\n"
   ]
  },
  {
   "cell_type": "code",
   "execution_count": null,
   "id": "6bbb91d0-cc0d-4967-87b8-a114b4d3cbae",
   "metadata": {},
   "outputs": [],
   "source": []
  },
  {
   "cell_type": "code",
   "execution_count": 3,
   "id": "c499d79e-b559-4522-8556-f8c516f2c396",
   "metadata": {},
   "outputs": [
    {
     "name": "stdout",
     "output_type": "stream",
     "text": [
      "Initial value of 'a': 4096\n",
      "Value of 'b' after assignment: 5\n",
      "Value of 'c' after assignment: 6\n",
      "Value of 'd' after assignment: 4.0\n"
     ]
    }
   ],
   "source": [
    "#questions no 2 various assignment operations on variable\n",
    "\n",
    "# Initialize a variable\n",
    "a = 5\n",
    "\n",
    "# Perform various assignment operations\n",
    "b = a  # Assign the value of 'a' to 'b'\n",
    "a += 3  # Increment 'a' by 3\n",
    "c = a - 2  # Assign the result of 'a - 2' to 'c'\n",
    "a *= 2  # Multiply 'a' by 2\n",
    "d = a / 4  # Assign the result of 'a / 4' to 'd'\n",
    "a **= 3  # Cube 'a'\n",
    "\n",
    "# Display the results\n",
    "print(\"Initial value of 'a':\", a)\n",
    "print(\"Value of 'b' after assignment:\", b)\n",
    "print(\"Value of 'c' after assignment:\", c)\n",
    "print(\"Value of 'd' after assignment:\", d)\n"
   ]
  },
  {
   "cell_type": "code",
   "execution_count": null,
   "id": "7baf3d45-2541-427a-80bc-8036f613374c",
   "metadata": {},
   "outputs": [],
   "source": []
  },
  {
   "cell_type": "code",
   "execution_count": 1,
   "id": "f4d0132a-6d1c-4cac-ab55-15a3937a9ceb",
   "metadata": {},
   "outputs": [
    {
     "name": "stdin",
     "output_type": "stream",
     "text": [
      "Enter the first number:  45\n",
      "Enter the second number:  67\n"
     ]
    },
    {
     "name": "stdout",
     "output_type": "stream",
     "text": [
      "45.0 == 67.0: False\n",
      "45.0 != 67.0: True\n",
      "45.0 < 67.0: True\n",
      "45.0 > 67.0: False\n",
      "45.0 <= 67.0: True\n",
      "45.0 >= 67.0: False\n"
     ]
    }
   ],
   "source": [
    "#ques no 3 compare two number and print the result \n",
    "\n",
    "# Input\n",
    "num1 = float(input(\"Enter the first number: \"))\n",
    "num2 = float(input(\"Enter the second number: \"))\n",
    "\n",
    "# Compare the numbers\n",
    "equal = num1 == num2\n",
    "not_equal = num1 != num2\n",
    "less_than = num1 < num2\n",
    "greater_than = num1 > num2\n",
    "less_than_or_equal = num1 <= num2\n",
    "greater_than_or_equal = num1 >= num2\n",
    "\n",
    "# Display the results\n",
    "print(f\"{num1} == {num2}: {equal}\")\n",
    "print(f\"{num1} != {num2}: {not_equal}\")\n",
    "print(f\"{num1} < {num2}: {less_than}\")\n",
    "print(f\"{num1} > {num2}: {greater_than}\")\n",
    "print(f\"{num1} <= {num2}: {less_than_or_equal}\")\n",
    "print(f\"{num1} >= {num2}: {greater_than_or_equal}\")\n"
   ]
  },
  {
   "cell_type": "code",
   "execution_count": null,
   "id": "3aad5c04-a0d3-416a-9614-252cbbb6e296",
   "metadata": {},
   "outputs": [],
   "source": []
  },
  {
   "cell_type": "code",
   "execution_count": 2,
   "id": "919bae92-e925-4063-a4cb-e1fe42825f30",
   "metadata": {},
   "outputs": [
    {
     "name": "stdout",
     "output_type": "stream",
     "text": [
      "Logical AND: True and False is False\n",
      "Logical OR: True or False is True\n",
      "Logical NOT: not True is False, not False is True\n"
     ]
    }
   ],
   "source": [
    "#Question 4 conditions using logical operator\n",
    "\n",
    "# Logical AND\n",
    "def logical_and_example(a, b):\n",
    "    return a and b\n",
    "\n",
    "# Logical OR\n",
    "def logical_or_example(a, b):\n",
    "    return a or b\n",
    "\n",
    "# Logical NOT\n",
    "def logical_not_example(a):\n",
    "    return not a\n",
    "\n",
    "# Sample values\n",
    "value1 = True\n",
    "value2 = False\n",
    "\n",
    "# Using logical AND\n",
    "result_and = logical_and_example(value1, value2)\n",
    "print(f\"Logical AND: {value1} and {value2} is {result_and}\")\n",
    "\n",
    "# Using logical OR\n",
    "result_or = logical_or_example(value1, value2)\n",
    "print(f\"Logical OR: {value1} or {value2} is {result_or}\")\n",
    "\n",
    "# Using logical NOT\n",
    "result_not1 = logical_not_example(value1)\n",
    "result_not2 = logical_not_example(value2)\n",
    "print(f\"Logical NOT: not {value1} is {result_not1}, not {value2} is {result_not2}\")\n"
   ]
  },
  {
   "cell_type": "code",
   "execution_count": null,
   "id": "ff45801c-a606-41b8-88b4-f7b829642ff0",
   "metadata": {},
   "outputs": [],
   "source": []
  },
  {
   "cell_type": "code",
   "execution_count": 6,
   "id": "e532cefd-04ca-4411-8323-5433d60fda93",
   "metadata": {},
   "outputs": [
    {
     "name": "stdout",
     "output_type": "stream",
     "text": [
      "x is y: False\n",
      "x is z: True\n",
      "id(x): 140312021745856\n",
      "id(y): 140312021728896\n",
      "id(z): 140312021745856\n"
     ]
    }
   ],
   "source": [
    "#question 5 identity of variable\n",
    "\n",
    "# Define some variables\n",
    "x = [1, 2, 3]\n",
    "y = [1, 2, 3]\n",
    "z = x\n",
    "\n",
    "# Check identity using 'is' operator\n",
    "print(\"x is y:\", x is y)  # Output: False (different objects)\n",
    "print(\"x is z:\", x is z)  # Output: True (same object)\n",
    "\n",
    "# Check identity using 'id' function (returns the object's identity memory address)\n",
    "print(\"id(x):\", id(x))\n",
    "print(\"id(y):\", id(y))\n",
    "print(\"id(z):\", id(z))\n"
   ]
  },
  {
   "cell_type": "code",
   "execution_count": null,
   "id": "7ee4f34b-22fa-4226-a266-cc28e164c540",
   "metadata": {},
   "outputs": [],
   "source": []
  },
  {
   "cell_type": "code",
   "execution_count": 7,
   "id": "e4b49dd3-814d-48fa-bf49-27db57318da1",
   "metadata": {},
   "outputs": [
    {
     "name": "stdout",
     "output_type": "stream",
     "text": [
      "Bitwise AND (12 & 7): 4 (Binary: 0b100)\n",
      "Bitwise OR (12 | 7): 15 (Binary: 0b1111)\n",
      "Bitwise XOR (12 ^ 7): 11 (Binary: 0b1011)\n",
      "Bitwise NOT (~12): -13 (Binary: -0b1101)\n",
      "Left shift (12 << 2): 48 (Binary: 0b110000)\n",
      "Right shift (12 >> 2): 3 (Binary: 0b11)\n"
     ]
    }
   ],
   "source": [
    "#question no 6 // Two integers for bitwise operations\n",
    "a = 12  # Binary: 1100\n",
    "b = 7   # Binary: 0111\n",
    "\n",
    "# Bitwise AND\n",
    "result_and = a & b\n",
    "print(f\"Bitwise AND ({a} & {b}): {result_and} (Binary: {bin(result_and)})\")\n",
    "\n",
    "# Bitwise OR\n",
    "result_or = a | b\n",
    "print(f\"Bitwise OR ({a} | {b}): {result_or} (Binary: {bin(result_or)})\")\n",
    "\n",
    "# Bitwise XOR\n",
    "result_xor = a ^ b\n",
    "print(f\"Bitwise XOR ({a} ^ {b}): {result_xor} (Binary: {bin(result_xor)})\")\n",
    "\n",
    "# Bitwise NOT\n",
    "result_not_a = ~a\n",
    "print(f\"Bitwise NOT (~{a}): {result_not_a} (Binary: {bin(result_not_a)})\")\n",
    "\n",
    "# Left shift\n",
    "result_left_shift = a << 2\n",
    "print(f\"Left shift ({a} << 2): {result_left_shift} (Binary: {bin(result_left_shift)})\")\n",
    "\n",
    "# Right shift\n",
    "result_right_shift = a >> 2\n",
    "print(f\"Right shift ({a} >> 2): {result_right_shift} (Binary: {bin(result_right_shift)})\")\n"
   ]
  },
  {
   "cell_type": "code",
   "execution_count": null,
   "id": "63f68c62-fd52-419a-a498-908d73538de4",
   "metadata": {},
   "outputs": [],
   "source": []
  },
  {
   "cell_type": "code",
   "execution_count": 9,
   "id": "fb319a0f-700c-4524-b8d4-c9145f665991",
   "metadata": {},
   "outputs": [
    {
     "name": "stdout",
     "output_type": "stream",
     "text": [
      "Original number: 42\n",
      "Negative number: -42\n"
     ]
    }
   ],
   "source": [
    "#Question no 7 Use unary operators to change the sign of a number.\n",
    "\n",
    "# Original number\n",
    "original_number = 42\n",
    "\n",
    "# Change the sign using unary operator -\n",
    "negative_number = -original_number\n",
    "\n",
    "# Display the results\n",
    "print(f\"Original number: {original_number}\")\n",
    "print(f\"Negative number: {negative_number}\")\n"
   ]
  },
  {
   "cell_type": "code",
   "execution_count": null,
   "id": "66bf81f0-72c2-4b65-a8c2-3659e8d67410",
   "metadata": {},
   "outputs": [],
   "source": []
  },
  {
   "cell_type": "code",
   "execution_count": 10,
   "id": "9419260b-6789-4cd0-b638-fcf16bae9ec2",
   "metadata": {},
   "outputs": [
    {
     "name": "stdout",
     "output_type": "stream",
     "text": [
      "y is greater\n"
     ]
    }
   ],
   "source": [
    "# questions no 8 Use the ternary operator to assign a value based on a condition\n",
    "x = 10\n",
    "y = 20\n",
    "\n",
    "# Use the ternary operator to assign a value based on a condition\n",
    "result = \"x is greater\" if x > y else \"y is greater\"\n",
    "\n",
    "# Display the result\n",
    "print(result)\n"
   ]
  },
  {
   "cell_type": "code",
   "execution_count": null,
   "id": "ce6de506-3373-42a3-8cb3-42cbeebe316e",
   "metadata": {},
   "outputs": [],
   "source": []
  },
  {
   "cell_type": "code",
   "execution_count": null,
   "id": "2f34f7ff-0bad-46ec-bb23-3bf80cb87c06",
   "metadata": {},
   "outputs": [],
   "source": []
  },
  {
   "cell_type": "code",
   "execution_count": null,
   "id": "6ba39efa-d112-463b-8d94-870ed086b9c6",
   "metadata": {},
   "outputs": [],
   "source": []
  },
  {
   "cell_type": "code",
   "execution_count": null,
   "id": "c03fbdea-70cf-4210-96b9-e18f5e90f81d",
   "metadata": {},
   "outputs": [],
   "source": []
  },
  {
   "cell_type": "code",
   "execution_count": null,
   "id": "560e8a62-5460-4f4f-806f-5cca8f11ec01",
   "metadata": {},
   "outputs": [],
   "source": []
  },
  {
   "cell_type": "code",
   "execution_count": null,
   "id": "0e2d2135-efc0-45bf-a2f3-e4d551a09e05",
   "metadata": {},
   "outputs": [],
   "source": []
  }
 ],
 "metadata": {
  "kernelspec": {
   "display_name": "Python 3 (ipykernel)",
   "language": "python",
   "name": "python3"
  },
  "language_info": {
   "codemirror_mode": {
    "name": "ipython",
    "version": 3
   },
   "file_extension": ".py",
   "mimetype": "text/x-python",
   "name": "python",
   "nbconvert_exporter": "python",
   "pygments_lexer": "ipython3",
   "version": "3.10.8"
  }
 },
 "nbformat": 4,
 "nbformat_minor": 5
}
